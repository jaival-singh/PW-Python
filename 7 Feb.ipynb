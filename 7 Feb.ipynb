{
 "cells": [
  {
   "cell_type": "markdown",
   "id": "645f9f84",
   "metadata": {},
   "source": [
    "Q1. You are writing code for a company. The requirement of the company is that you create a python  function that will check whether the password entered by the user is correct or not. The function should  take the password as input and return the string “Valid Password” if the entered password follows the  below-given password guidelines else it should return “Invalid Password”. \n",
    "Note: 1. The Password should contain at least two uppercase letters and at least two lowercase letters. 2. The Password should contain at least a number and three special characters. \n",
    "3. The length of the password should be 10 characters long. \n"
   ]
  },
  {
   "cell_type": "code",
   "execution_count": 1,
   "id": "8da52774",
   "metadata": {},
   "outputs": [
    {
     "name": "stdout",
     "output_type": "stream",
     "text": [
      "Enter the password:abAbB12!@#\n"
     ]
    },
    {
     "data": {
      "text/plain": [
       "'Valid password'"
      ]
     },
     "execution_count": 1,
     "metadata": {},
     "output_type": "execute_result"
    }
   ],
   "source": [
    "def password(x):\n",
    "    if len(x)<10:\n",
    "       return \"Invalid Password\"\n",
    "    \n",
    "    up_case = 0\n",
    "    lo_case = 0\n",
    "    \n",
    "    for i in x:\n",
    "        if i.isupper():\n",
    "            up_case+=1\n",
    "        elif i.islower():\n",
    "            lo_case+=1\n",
    "    if up_case<2 or lo_case<2:\n",
    "       return \"Invalid Password\"\n",
    "        \n",
    "    num_count = 0\n",
    "    special_count = 0\n",
    "    \n",
    "    for i in x:\n",
    "        if i.isdigit():\n",
    "            num_count=+1\n",
    "        elif i in \"!@#$%^&*(),.?\\\":{}|<>\":\n",
    "            special_count += 1\n",
    "    \n",
    "    if num_count<1 or special_count<3:\n",
    "        return \"Invalid Password\"\n",
    "\n",
    "    return \"Valid password\"\n",
    "\n",
    "\n",
    "y=input(\"Enter the password:\")\n",
    "password(y)\n"
   ]
  },
  {
   "cell_type": "markdown",
   "id": "e0456775",
   "metadata": {},
   "source": [
    "Q2. Solve the below-given questions using at least one of the following:  \n",
    "1. Lambda function\n",
    "2. Filter function\n",
    "3. Zap function\n",
    "4. List Comprehension \n",
    "\n",
    "\n",
    "1 Check if the string starts with a particular letter \n",
    "\n",
    "2 Check if the string is numeric \n",
    "\n",
    "3 Sort a list of tuples having fruit names and their quantity. [(\"mango\",99),(\"orange\",80), (\"grapes\", 1000)-\n",
    "\n",
    "B Find the squares of numbers from 1 to 10Y \n",
    "\n",
    "4 Find the cube root of numbers from 1 to 10\n",
    "\n",
    "5 Check if a given number is even \n",
    "\n",
    "6 Filter odd numbers from the given list. \n",
    " [1,2,3,4,5,6,7,8,9,10]\n",
    "\n",
    "7 Sort a list of integers into positive and negative integers lists. \n",
    " [1,2,3,4,5,6,-1,-2,-3,-4,-5,0] \n"
   ]
  },
  {
   "cell_type": "code",
   "execution_count": 11,
   "id": "4fd30f7a",
   "metadata": {},
   "outputs": [
    {
     "name": "stdout",
     "output_type": "stream",
     "text": [
      "True\n"
     ]
    }
   ],
   "source": [
    "my_str = \"ABCDE\"\n",
    "\n",
    "x = lambda s: s.startswith('A')\n",
    "\n",
    "print(x(my_str))\n"
   ]
  },
  {
   "cell_type": "code",
   "execution_count": 12,
   "id": "badf1333",
   "metadata": {},
   "outputs": [
    {
     "name": "stdout",
     "output_type": "stream",
     "text": [
      "True\n"
     ]
    }
   ],
   "source": [
    "my_str = '1234'\n",
    "\n",
    "is_numeric = lambda s: s.isdigit()\n",
    "\n",
    "print(is_numeric(my_str))\n"
   ]
  },
  {
   "cell_type": "code",
   "execution_count": 1,
   "id": "1676150f",
   "metadata": {},
   "outputs": [
    {
     "name": "stdout",
     "output_type": "stream",
     "text": [
      "[('orange', 80), ('mango', 99), ('grapes', 1000)]\n"
     ]
    }
   ],
   "source": [
    "fruits = [(\"mango\", 99), (\"orange\", 80), (\"grapes\", 1000)]\n",
    "sorted_fruits = sorted(fruits, key=lambda x: x[1])\n",
    "print(sorted_fruits)\n"
   ]
  },
  {
   "cell_type": "code",
   "execution_count": 2,
   "id": "d55164ad",
   "metadata": {},
   "outputs": [
    {
     "name": "stdout",
     "output_type": "stream",
     "text": [
      "[1, 4, 9, 16, 25, 36, 49, 64, 81, 100]\n"
     ]
    }
   ],
   "source": [
    "squares = list(map(lambda x: x**2, range(1, 11)))\n",
    "print(squares)\n"
   ]
  },
  {
   "cell_type": "code",
   "execution_count": 3,
   "id": "8135fa5f",
   "metadata": {},
   "outputs": [
    {
     "name": "stdout",
     "output_type": "stream",
     "text": [
      "[1.0, 1.2599210498948732, 1.4422495703074083, 1.5874010519681994, 1.7099759466766968, 1.8171205928321397, 1.912931182772389, 2.0, 2.080083823051904, 2.154434690031884]\n"
     ]
    }
   ],
   "source": [
    "cube_roots = list(map(lambda x: pow(x, 1/3), range(1, 11)))\n",
    "print(cube_roots)\n"
   ]
  },
  {
   "cell_type": "code",
   "execution_count": 4,
   "id": "fd593f14",
   "metadata": {},
   "outputs": [
    {
     "name": "stdout",
     "output_type": "stream",
     "text": [
      "True\n"
     ]
    }
   ],
   "source": [
    "is_even = lambda x: x % 2 == 0\n",
    "number = 4\n",
    "print(is_even(number)) "
   ]
  },
  {
   "cell_type": "code",
   "execution_count": 6,
   "id": "cf402905",
   "metadata": {},
   "outputs": [
    {
     "name": "stdout",
     "output_type": "stream",
     "text": [
      "[1, 3, 5, 7, 9]\n"
     ]
    }
   ],
   "source": [
    "number_list = [1, 2, 3, 4, 5, 6, 7, 8, 9, 10]\n",
    "odd_numbers = list(filter(lambda x: x % 2 != 0, number_list))\n",
    "print(odd_numbers)"
   ]
  },
  {
   "cell_type": "code",
   "execution_count": 7,
   "id": "b9e8b0ec",
   "metadata": {},
   "outputs": [
    {
     "name": "stdout",
     "output_type": "stream",
     "text": [
      "Positive Numbers: [1, 2, 3, 4, 5, 6]\n",
      "Negative Numbers: [-1, -2, -3, -4, -5]\n"
     ]
    }
   ],
   "source": [
    "number_list = [1, 2, 3, 4, 5, 6, -1, -2, -3, -4, -5, 0]\n",
    "positive_numbers = list(filter(lambda x: x > 0, number_list))\n",
    "negative_numbers = list(filter(lambda x: x < 0, number_list))\n",
    "print(\"Positive Numbers:\", positive_numbers)\n",
    "print(\"Negative Numbers:\", negative_numbers)\n"
   ]
  }
 ],
 "metadata": {
  "kernelspec": {
   "display_name": "Python 3 (ipykernel)",
   "language": "python",
   "name": "python3"
  },
  "language_info": {
   "codemirror_mode": {
    "name": "ipython",
    "version": 3
   },
   "file_extension": ".py",
   "mimetype": "text/x-python",
   "name": "python",
   "nbconvert_exporter": "python",
   "pygments_lexer": "ipython3",
   "version": "3.9.13"
  }
 },
 "nbformat": 4,
 "nbformat_minor": 5
}
