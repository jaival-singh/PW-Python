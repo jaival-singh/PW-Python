{
 "cells": [
  {
   "cell_type": "markdown",
   "id": "2b0dc3ba",
   "metadata": {},
   "source": [
    "Consider following code to answer further questions:\n",
    "import pandas as pd\n",
    "course_name = [‘Data Science’, ‘Machine Learning’, ‘Big Data’, ‘Data Engineer’]\n",
    "duration = [2,3,6,4]\n",
    "df = pd.DataFrame(data = {‘course_name’ : course_name, ‘duration’ : duration})"
   ]
  },
  {
   "cell_type": "markdown",
   "id": "c3120c61",
   "metadata": {},
   "source": [
    "Q1. Write a code to print the data present in the second row of the dataframe, df."
   ]
  },
  {
   "cell_type": "code",
   "execution_count": null,
   "id": "2ae54e92",
   "metadata": {},
   "outputs": [],
   "source": [
    "import pandas as pd\n",
    "\n",
    "course_name = ['Data Science', 'Machine Learning', 'Big Data', 'Data Engineer']\n",
    "duration = [2, 3, 6, 4]\n",
    "df = pd.DataFrame(data={'course_name': course_name, 'duration': duration})\n"
   ]
  },
  {
   "cell_type": "code",
   "execution_count": null,
   "id": "e83cabf5",
   "metadata": {},
   "outputs": [],
   "source": [
    "print(df.iloc[1])"
   ]
  },
  {
   "cell_type": "markdown",
   "id": "88d6f1c3",
   "metadata": {},
   "source": [
    "Q2. What is the difference between the functions loc and iloc in pandas.DataFrame?"
   ]
  },
  {
   "cell_type": "markdown",
   "id": "3f62b655",
   "metadata": {},
   "source": [
    "In pandas, both loc and iloc are used for accessing rows from a DataFrame, but they have different ways of specifying the rows.\n",
    "\n",
    "iloc (Integer Location):\n",
    "\n",
    "It is primarily integer-based indexing and is used when you want to select rows and columns by their integer index.\n",
    "The syntax is df.iloc[row_index, column_index].\n",
    "It uses integer positions to select data, so you need to provide the integer indices of the rows and columns.\n",
    "\n",
    "\n",
    "loc (Label Location):\n",
    "\n",
    "It is label-based indexing and is used when you want to select rows and columns by their labels (index and column names).\n",
    "The syntax is df.loc[row_label, column_label].\n",
    "It uses the actual row and column labels to select data.\n"
   ]
  },
  {
   "cell_type": "markdown",
   "id": "08cd592d",
   "metadata": {},
   "source": [
    "Q3. Reindex the given dataframe using a variable, reindex = [3,0,1,2] and store it in the variable, new_df\n",
    "then find the output for both new_df.loc[2] and new_df.iloc[2].\n",
    "\n"
   ]
  },
  {
   "cell_type": "code",
   "execution_count": null,
   "id": "ea63ba2d",
   "metadata": {},
   "outputs": [],
   "source": [
    "import pandas as pd\n",
    "\n",
    "course_name = ['Data Science', 'Machine Learning', 'Big Data', 'Data Engineer']\n",
    "duration = [2, 3, 6, 4]\n",
    "df = pd.DataFrame(data={'course_name': course_name, 'duration': duration})\n",
    "\n",
    "# Reindexing the dataframe using the variable reindex\n",
    "reindex = [3, 0, 1, 2]\n",
    "new_df = df.reindex(reindex)\n",
    "\n",
    "# Output for new_df.loc[2]\n",
    "output_loc = new_df.loc[2]\n",
    "print(\"Output for new_df.loc[2]:\\n\", output_loc)\n",
    "\n",
    "# Output for new_df.iloc[2]\n",
    "output_iloc = new_df.iloc[2]\n",
    "print(\"\\nOutput for new_df.iloc[2]:\\n\", output_iloc)\n"
   ]
  },
  {
   "cell_type": "markdown",
   "id": "2cb2a809",
   "metadata": {},
   "source": [
    "new_df.loc[2]: This uses label-based indexing. In the original DataFrame df, the label/index '2' corresponds to the third row. After reindexing, the label '2' now corresponds to the second row in new_df. So, new_df.loc[2] will return the data in the second row of new_df.\n",
    "\n",
    "new_df.iloc[2]: This uses integer-based indexing. After reindexing, the integer position '2' corresponds to the third row in new_df. So, new_df.iloc[2] will return the data in the third row of new_df."
   ]
  },
  {
   "cell_type": "raw",
   "id": "0868cbc9",
   "metadata": {},
   "source": [
    "Consider the below code to answer further questions:\n",
    "import pandas as pd\n",
    "import numpy as np\n",
    "columns = ['column_1', 'column_2', 'column_3', 'column_4', 'column_5', 'column_6']\n",
    "indices = [1,2,3,4,5,6]\n",
    "#Creating a dataframe:\n",
    "df1 = pd.DataFrame(np.random.rand(6,6), columns = columns, index = indices)"
   ]
  },
  {
   "cell_type": "markdown",
   "id": "0ecd7c7b",
   "metadata": {},
   "source": [
    "Q4. Write a code to find the following statistical measurements for the above dataframe df1:\n",
    "(i) mean of each and every column present in the dataframe.\n",
    "(ii) standard deviation of column, ‘column_2’"
   ]
  },
  {
   "cell_type": "code",
   "execution_count": null,
   "id": "e7b2ff52",
   "metadata": {},
   "outputs": [],
   "source": [
    "import pandas as pd\n",
    "import numpy as np\n",
    "columns = ['column_1', 'column_2', 'column_3', 'column_4', 'column_5', 'column_6']\n",
    "indices = [1,2,3,4,5,6]\n",
    "#Creating a dataframe:\n",
    "df1 = pd.DataFrame(np.random.rand(6,6), columns = columns, index = indices)\n",
    "print(df1)"
   ]
  },
  {
   "cell_type": "code",
   "execution_count": null,
   "id": "b5dd02cf",
   "metadata": {},
   "outputs": [],
   "source": [
    "# (i) Mean of each column\n",
    "column_means = df1.mean()\n",
    "print(\"Mean of each column:\\n\", column_means)\n",
    "\n",
    "# (ii) Standard deviation of 'column_2'\n",
    "column_2_std = df1['column_2'].std()\n",
    "print(\"\\nStandard deviation of 'column_2':\", column_2_std)\n"
   ]
  },
  {
   "cell_type": "markdown",
   "id": "e3e6be71",
   "metadata": {},
   "source": [
    "Q5. Replace the data present in the second row of column, ‘column_2’ by a string variable then find the\n",
    "mean of column, column_2.\n",
    "If you are getting errors in executing it then explain why.\n",
    "[Hint: To replace the data use df1.loc[] and equate this to string data of your choice.]"
   ]
  },
  {
   "cell_type": "code",
   "execution_count": null,
   "id": "2a7a7e6f",
   "metadata": {},
   "outputs": [],
   "source": [
    "import pandas as pd\n",
    "\n",
    "columns = ['column_1', 'column_2', 'column_3', 'column_4', 'column_5', 'column_6']\n",
    "indices = [1, 2, 3, 4, 5, 6]\n",
    "df1 = pd.DataFrame(pd.DataFrame(np.random.rand(6, 6), columns=columns, index=indices))\n",
    "df1.loc[2, 'column_2'] = 'xyz' \n",
    "\n",
    "column_2_mean = df1['column_2'].mean()\n",
    "print(column_2_mean)"
   ]
  },
  {
   "cell_type": "markdown",
   "id": "330fbeb4",
   "metadata": {},
   "source": [
    "The error occured becaause we cannot calculate the mean of string type of data"
   ]
  },
  {
   "cell_type": "markdown",
   "id": "d24bd5e7",
   "metadata": {},
   "source": [
    "Q6. What do you understand about the windows function in pandas and list the types of windows\n",
    "functions?"
   ]
  },
  {
   "cell_type": "markdown",
   "id": "60d19e44",
   "metadata": {},
   "source": [
    "Answer:\n",
    "In pandas, a window function is a way to apply a calculation to a specific subset of data, called a \"window,\" that moves through the dataset. This allows for calculations to be made on a rolling or expanding basis, depending on the type of window function used.\n",
    "\n",
    "The types of window functions available in pandas can be broadly classified into the following categories:\n",
    "\n",
    "Rolling functions: These functions compute a rolling statistic over a defined window size. Examples include rolling mean, rolling sum, rolling standard deviation, etc.\n",
    "\n",
    "Expanding functions: These functions compute a cumulative statistic over the entire dataset up to the current point. Examples include expanding sum, expanding mean, etc.\n",
    "\n",
    "Exponentially weighted functions: These functions compute a rolling statistic with weights that decay exponentially as the distance from the current point increases. Examples include exponentially weighted mean, exponentially weighted standard deviation, etc.\n",
    "\n",
    "Cumulative functions: These functions compute a cumulative statistic over the entire dataset up to the current point. Examples include cumsum, cummax, cummin, etc.\n",
    "\n",
    "Aggregating functions: These functions perform a groupby-style operation on a rolling or expanding window. Examples include groupby.mean(), groupby.sum(), etc."
   ]
  },
  {
   "cell_type": "markdown",
   "id": "55e50ec5",
   "metadata": {},
   "source": [
    "Q7. Write a code to print only the current month and year at the time of answering this question.\n",
    "[Hint: Use pandas.datetime function]"
   ]
  },
  {
   "cell_type": "code",
   "execution_count": null,
   "id": "df6d2ea1",
   "metadata": {},
   "outputs": [],
   "source": [
    "data_dict = {\n",
    "    'current_date':['2024-03-12']\n",
    "}\n",
    "\n",
    "df = pd.DataFrame(data_dict)\n",
    "df"
   ]
  },
  {
   "cell_type": "code",
   "execution_count": null,
   "id": "e169e2f2",
   "metadata": {},
   "outputs": [],
   "source": [
    "df['current_date'] = pd.to_datetime(df['current_date'])"
   ]
  },
  {
   "cell_type": "code",
   "execution_count": null,
   "id": "96c8bf65",
   "metadata": {},
   "outputs": [],
   "source": [
    "df['current_month'] = df['current_date'].dt.month\n",
    "print(df['current_month'])"
   ]
  },
  {
   "cell_type": "code",
   "execution_count": null,
   "id": "f87b1318",
   "metadata": {},
   "outputs": [],
   "source": [
    "df['current_year'] = df['current_date'].dt.year\n",
    "print(df['current_year'])"
   ]
  },
  {
   "cell_type": "markdown",
   "id": "ca4ffdde",
   "metadata": {},
   "source": [
    "Q8. Write a Python program that takes in two dates as input (in the format YYYY-MM-DD) and\n",
    "calculates the difference between them in days, hours, and minutes using Pandas time delta. The\n",
    "program should prompt the user to enter the dates and display the result."
   ]
  },
  {
   "cell_type": "code",
   "execution_count": null,
   "id": "d07d9d80",
   "metadata": {},
   "outputs": [],
   "source": [
    "start_date = input(\"Enter first date: \")\n",
    "end_date = input(\"Enter second date: \")\n",
    "\n",
    "days_in_between = pd.date_range(start = start_date, end = end_date)\n",
    "difference = len(days_in_between)\n",
    "\n",
    "print(f'The difference between the first date and second date is {difference} days')\n"
   ]
  },
  {
   "cell_type": "markdown",
   "id": "43d668d0",
   "metadata": {},
   "source": [
    "Q9. Write a Python program that reads a CSV file containing categorical data and converts a specified\n",
    "column to a categorical data type. The program should prompt the user to enter the file path, column\n",
    "name, and category order, and then display the sorted data."
   ]
  },
  {
   "cell_type": "code",
   "execution_count": 14,
   "id": "f6665f81",
   "metadata": {},
   "outputs": [
    {
     "name": "stdout",
     "output_type": "stream",
     "text": [
      "Enter the file path:https://raw.githubusercontent.com/datasciencedojo/datasets/master/titanic.csv\n",
      "Enter the column name:Pclass\n",
      "Enter the category order:ascending\n",
      "     PassengerId  Survived Pclass  \\\n",
      "445          446         1      1   \n",
      "310          311         1      1   \n",
      "309          310         1      1   \n",
      "307          308         1      1   \n",
      "306          307         1      1   \n",
      "..           ...       ...    ...   \n",
      "379          380         0      3   \n",
      "381          382         1      3   \n",
      "382          383         0      3   \n",
      "371          372         0      3   \n",
      "890          891         0      3   \n",
      "\n",
      "                                                  Name     Sex   Age  SibSp  \\\n",
      "445                          Dodge, Master. Washington    male   4.0      0   \n",
      "310                     Hays, Miss. Margaret Bechstein  female  24.0      0   \n",
      "309                     Francatelli, Miss. Laura Mabel  female  30.0      0   \n",
      "307  Penasco y Castellana, Mrs. Victor de Satode (M...  female  17.0      1   \n",
      "306                            Fleming, Miss. Margaret  female   NaN      0   \n",
      "..                                                 ...     ...   ...    ...   \n",
      "379                        Gustafsson, Mr. Karl Gideon    male  19.0      0   \n",
      "381                        Nakid, Miss. Maria (\"Mary\")  female   1.0      0   \n",
      "382                                 Tikkanen, Mr. Juho    male  32.0      0   \n",
      "371                          Wiklund, Mr. Jakob Alfred    male  18.0      1   \n",
      "890                                Dooley, Mr. Patrick    male  32.0      0   \n",
      "\n",
      "     Parch             Ticket      Fare Cabin Embarked  \n",
      "445      2              33638   81.8583   A34        S  \n",
      "310      0              11767   83.1583   C54        C  \n",
      "309      0           PC 17485   56.9292   E36        C  \n",
      "307      0           PC 17758  108.9000   C65        C  \n",
      "306      0              17421  110.8833   NaN        C  \n",
      "..     ...                ...       ...   ...      ...  \n",
      "379      0             347069    7.7750   NaN        S  \n",
      "381      2               2653   15.7417   NaN        C  \n",
      "382      0  STON/O 2. 3101293    7.9250   NaN        S  \n",
      "371      0            3101267    6.4958   NaN        S  \n",
      "890      0             370376    7.7500   NaN        Q  \n",
      "\n",
      "[891 rows x 12 columns]\n"
     ]
    }
   ],
   "source": [
    "file_path = input(\"Enter the file path:\")\n",
    "column_name = input(\"Enter the column name:\")\n",
    "category_order = input(\"Enter the category order:\")\n",
    "\n",
    "df = pd.read_csv(file_path)\n",
    "\n",
    "df[column_name] = df[column_name].astype('category')\n",
    "\n",
    "if category_order == 'ascending':\n",
    "    df = df.sort_values(by=column_name, ascending=True)\n",
    "elif category_order == 'descending':\n",
    "    df = df.sort_values(by=column_name, ascending=False)\n",
    "else:\n",
    "    print(\"Invalid category order entered. Please enter 'ascending' or 'descending'.\")\n",
    "\n",
    "print(df)\n"
   ]
  },
  {
   "cell_type": "raw",
   "id": "c0181db3",
   "metadata": {},
   "source": [
    "You are given a CSV file containing student data that includes the student ID and their test score. Write\n",
    "a Python program that reads the CSV file, calculates the mean, median, and mode of the test scores, and\n",
    "displays the results in a table.\n",
    "The program should do the followingM\n",
    "I Prompt the user to enter the file path of the CSV file containing the student dataR\n",
    "I Read the CSV file into a Pandas DataFrameR\n",
    "I Calculate the mean, median, and mode of the test scores using Pandas toolsR\n",
    "I Display the mean, median, and mode in a table.\n",
    "Assume the CSV file contains the following columnsM\n",
    "I Student ID: The ID of the studentR\n",
    "I Test Score: The score of the student's test.\n",
    "Example usage of the program:\n",
    "Enter the file path of the CSV file containing the student data: student_data.csv\n",
    "+-----------+--------+\n",
    "| Statistic | Value |\n",
    "+-----------+--------+\n",
    "| Mean | 79.6 |\n",
    "| Median | 82 |\n",
    "| Mode | 85, 90 |\n",
    "+-----------+--------+\n",
    "Assume that the CSV file student_data.csv contains the following data:\n",
    "Student ID,Test Score\n",
    "1,85\n",
    "2,90\n",
    "3,80\n",
    "4,75\n",
    "5,85\n",
    "6,82\n",
    "7,78\n",
    "8,85\n",
    "9,90\n",
    "10,85\n",
    "The program should calculate the mean, median, and mode of the test scores and display the results\n",
    "in a table."
   ]
  },
  {
   "cell_type": "code",
   "execution_count": null,
   "id": "5f96c84a",
   "metadata": {},
   "outputs": [],
   "source": [
    "filepath = input('Enter Filepath: ')\n",
    "\n",
    "df = pd.read_csv(filepath)\n",
    "\n",
    "mean = df['Test_Score'].mean()\n",
    "median = df['Test_Score'].median()\n",
    "mode = df['Test_Score'].mode()\n",
    "\n",
    "print(\"+----------+----------+\")\n",
    "print(\"Statistic | Value\")\n",
    "print(f\"Mean:    {mean}\")\n",
    "print(f\"Median:    {median}\")\n",
    "print(f\"Mode:    {mode}\")\n",
    "print(\"+----------+----------+\")\n"
   ]
  }
 ],
 "metadata": {
  "kernelspec": {
   "display_name": "Python 3 (ipykernel)",
   "language": "python",
   "name": "python3"
  },
  "language_info": {
   "codemirror_mode": {
    "name": "ipython",
    "version": 3
   },
   "file_extension": ".py",
   "mimetype": "text/x-python",
   "name": "python",
   "nbconvert_exporter": "python",
   "pygments_lexer": "ipython3",
   "version": "3.9.13"
  }
 },
 "nbformat": 4,
 "nbformat_minor": 5
}
