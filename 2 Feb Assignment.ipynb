{
 "cells": [
  {
   "cell_type": "markdown",
   "id": "efcd7581",
   "metadata": {},
   "source": [
    "Q1.  Explain with an example each when to use a for loop and a while loop. "
   ]
  },
  {
   "cell_type": "markdown",
   "id": "56bd3278",
   "metadata": {},
   "source": [
    "The for loop is used when we already know the number of iterations, which means when we know how many times a statement has to be executed. That is why we have to specify the ending point in the for loop initialization. When we need to end the loop on a condition other than the number of times, we use a while loop."
   ]
  },
  {
   "cell_type": "code",
   "execution_count": 1,
   "id": "f7ab9b04",
   "metadata": {},
   "outputs": [
    {
     "name": "stdout",
     "output_type": "stream",
     "text": [
      "1\n",
      "2\n",
      "3\n",
      "4\n",
      "5\n"
     ]
    }
   ],
   "source": [
    "# For loop to print the numbers from 1 to 5\n",
    "for i in range(1, 6):\n",
    "    print(i)\n"
   ]
  },
  {
   "cell_type": "code",
   "execution_count": 2,
   "id": "eaa07066",
   "metadata": {},
   "outputs": [
    {
     "name": "stdout",
     "output_type": "stream",
     "text": [
      "1\n",
      "2\n",
      "3\n",
      "4\n",
      "5\n"
     ]
    }
   ],
   "source": [
    "# While loop to print the numbers from 1 to 5\n",
    "i = 1\n",
    "while i <= 5:\n",
    "    print(i)\n",
    "    i = i + 1\n"
   ]
  },
  {
   "cell_type": "markdown",
   "id": "ce9b28f0",
   "metadata": {},
   "source": [
    "Q2.  Write a python program to print the sum and product of the first 10 natural numbers using for  and while loop. \n"
   ]
  },
  {
   "cell_type": "code",
   "execution_count": 5,
   "id": "33686a81",
   "metadata": {},
   "outputs": [
    {
     "name": "stdout",
     "output_type": "stream",
     "text": [
      "The sum of the first 10 natural numbers is: 55\n",
      "The product of the first 10 natural numbers is: 3628800\n"
     ]
    }
   ],
   "source": [
    "# For loop to print the sum and product of the first 10 natural numbers\n",
    "\n",
    "sum = 0\n",
    "product = 1\n",
    "\n",
    "for i in range(1, 11):\n",
    "    sum += i\n",
    "    product *= i\n",
    "\n",
    "print(\"The sum of the first 10 natural numbers is:\", sum)\n",
    "print(\"The product of the first 10 natural numbers is:\", product)\n"
   ]
  },
  {
   "cell_type": "code",
   "execution_count": 2,
   "id": "21efd602",
   "metadata": {},
   "outputs": [
    {
     "name": "stdout",
     "output_type": "stream",
     "text": [
      "The sum of the first 10 natural numbers is: 55\n",
      "The product of the first 10 natural numbers is: 3628800\n"
     ]
    }
   ],
   "source": [
    "# While loop to print the sum and product of first 10 natural numbers\n",
    "i=1\n",
    "sum = 0 \n",
    "product = 1\n",
    "\n",
    "while i<=10:\n",
    "    sum +=i\n",
    "    product *= i\n",
    "    i += 1\n",
    "    \n",
    "print(\"The sum of the first 10 natural numbers is:\", sum)\n",
    "print(\"The product of the first 10 natural numbers is:\", product)"
   ]
  },
  {
   "cell_type": "markdown",
   "id": "d0264da8",
   "metadata": {},
   "source": [
    "Q3. Create a python program to compute the electricity bill for a household. \n",
    "The per-unit charges in rupees are as follows: For the first 100 units, the user will be charged Rs. 4.5 per  unit, for the next 100 units, the user will be charged Rs. 6 per unit, and for the next 100 units, the user will  be charged Rs. 10 per unit, After 300 units and above the user will be charged Rs. 20 per unit. \n",
    "You are required to take the units of electricity consumed in a month from the user as input. \n",
    "Your program must pass this test case: when the unit of electricity consumed by the user in a month is  310, the total electricity bill should be 2250. \n"
   ]
  },
  {
   "cell_type": "code",
   "execution_count": 4,
   "id": "412601e4",
   "metadata": {},
   "outputs": [
    {
     "name": "stdout",
     "output_type": "stream",
     "text": [
      "Enter the amount of electricity consumed:310\n",
      "2250.0\n"
     ]
    }
   ],
   "source": [
    "n = int(input(\"Enter the amount of electricity consumed:\" ))\n",
    "\n",
    "if n<100:\n",
    "    print(n*4.5)\n",
    "elif n>100 and n<200:\n",
    "    print(100*4.5 + (n-100)*6)\n",
    "elif n>200 and n<300:\n",
    "    print(100*4.5 + 100*6 + (n-200)*10)\n",
    "elif n>300:\n",
    "    print(100*4.5 + 100*6 + 100*10 + (n-300)*20)\n",
    "    "
   ]
  },
  {
   "cell_type": "markdown",
   "id": "86f2dde5",
   "metadata": {},
   "source": [
    "Q4. Create a list of numbers from 1 to 100. Use for loop and while loop to calculate the cube of each  number and if the cube of that number is divisible by 4 or 5 then append that number in a list and print  that list. \n"
   ]
  },
  {
   "cell_type": "code",
   "execution_count": 1,
   "id": "b47a3340",
   "metadata": {},
   "outputs": [
    {
     "name": "stdout",
     "output_type": "stream",
     "text": [
      "Using for loop:  [2, 4, 5, 6, 8, 10, 12, 14, 15, 16, 18, 20, 22, 24, 25, 26, 28, 30, 32, 34, 35, 36, 38, 40, 42, 44, 45, 46, 48, 50, 52, 54, 55, 56, 58, 60, 62, 64, 65, 66, 68, 70, 72, 74, 75, 76, 78, 80, 82, 84, 85, 86, 88, 90, 92, 94, 95, 96, 98, 100]\n",
      "Using while loop:  [2, 4, 5, 6, 8, 10, 12, 14, 15, 16, 18, 20, 22, 24, 25, 26, 28, 30, 32, 34, 35, 36, 38, 40, 42, 44, 45, 46, 48, 50, 52, 54, 55, 56, 58, 60, 62, 64, 65, 66, 68, 70, 72, 74, 75, 76, 78, 80, 82, 84, 85, 86, 88, 90, 92, 94, 95, 96, 98, 100]\n"
     ]
    }
   ],
   "source": [
    "# using for loop\n",
    "numbers = []\n",
    "for i in range(1, 101):\n",
    "    cube = i**3\n",
    "    if cube % 4 == 0 or cube % 5 == 0:\n",
    "        numbers.append(i)\n",
    "print(\"Using for loop: \", numbers)\n",
    "\n",
    "# using while loop\n",
    "numbers = []\n",
    "i = 1\n",
    "while i <= 100:\n",
    "    cube = i**3\n",
    "    if cube % 4 == 0 or cube % 5 == 0:\n",
    "        numbers.append(i)\n",
    "    i += 1\n",
    "print(\"Using while loop: \", numbers)\n"
   ]
  },
  {
   "cell_type": "markdown",
   "id": "95a4803c",
   "metadata": {},
   "source": [
    "Q5.  Write a program to filter count vowels in the below-given string. \n",
    "string = \"I want to become a data scientist\" \n"
   ]
  },
  {
   "cell_type": "code",
   "execution_count": 3,
   "id": "7b94dd6f",
   "metadata": {},
   "outputs": [
    {
     "name": "stdout",
     "output_type": "stream",
     "text": [
      "Number of vowels in the string:  12\n"
     ]
    }
   ],
   "source": [
    "string = \"I want to become a data scientist\"\n",
    "vowels = \"aeiouAEIOU\"\n",
    "vowel_count = 0\n",
    "\n",
    "for char in string:\n",
    "    if char in vowels:\n",
    "        vowel_count += 1\n",
    "\n",
    "print(\"Number of vowels in the string: \", vowel_count)\n"
   ]
  }
 ],
 "metadata": {
  "kernelspec": {
   "display_name": "Python 3 (ipykernel)",
   "language": "python",
   "name": "python3"
  },
  "language_info": {
   "codemirror_mode": {
    "name": "ipython",
    "version": 3
   },
   "file_extension": ".py",
   "mimetype": "text/x-python",
   "name": "python",
   "nbconvert_exporter": "python",
   "pygments_lexer": "ipython3",
   "version": "3.9.13"
  }
 },
 "nbformat": 4,
 "nbformat_minor": 5
}
