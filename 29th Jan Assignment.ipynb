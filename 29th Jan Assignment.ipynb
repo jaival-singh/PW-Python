{
 "cells": [
  {
   "cell_type": "markdown",
   "id": "b0ec8800",
   "metadata": {},
   "source": [
    "1. Who developed Python Programming Language? \n",
    "\n",
    "Answer :Guido van Rossum "
   ]
  },
  {
   "cell_type": "markdown",
   "id": "2c2367eb",
   "metadata": {},
   "source": [
    "2. Which type of Programming does Python support?\n",
    "\n",
    "Answer : Object oriented and structured programming"
   ]
  },
  {
   "cell_type": "markdown",
   "id": "0b354846",
   "metadata": {},
   "source": [
    "3.  Is Python case sensitive when dealing with identifiers? \n",
    "\n",
    "Answer :Yes, Python is a case-sensitive language, i.e., it treats uppercase and lowercase characters differently."
   ]
  },
  {
   "cell_type": "markdown",
   "id": "fe45fc88",
   "metadata": {},
   "source": [
    "4. What is the correct extension of the Python file? \n",
    "\n",
    "Answer : .py is the extension of python"
   ]
  },
  {
   "cell_type": "markdown",
   "id": "12dfc2fd",
   "metadata": {},
   "source": [
    "5. Is Python code compiled or interpreted? \n",
    "\n",
    "Answer: Python is an interpreted language.\n"
   ]
  },
  {
   "cell_type": "markdown",
   "id": "bfc91dd2",
   "metadata": {},
   "source": [
    "6. Name a few blocks of code used to define in Python language? \n",
    "\n",
    "Answer: Indentation is used to define a block of code in python."
   ]
  },
  {
   "cell_type": "markdown",
   "id": "c3511884",
   "metadata": {},
   "source": [
    "7. State a character used to give single-line comments in Python? \n",
    "\n",
    "Answer: We can write a single-line comment by adding a single # character before any statement or line of code.\n"
   ]
  },
  {
   "cell_type": "markdown",
   "id": "62a3c35c",
   "metadata": {},
   "source": [
    "8. Mention functions which can help us to find the version of python that we are currently working on? \n",
    "\n",
    "Answer:The function sys. version can help us to find the version of python that we are currently working on."
   ]
  },
  {
   "cell_type": "markdown",
   "id": "b643bc55",
   "metadata": {},
   "source": [
    "9. Python supports the creation of anonymous functions at runtime, using a construct called \n",
    "\n",
    "Answer: Lambda"
   ]
  },
  {
   "cell_type": "markdown",
   "id": "9a364060",
   "metadata": {},
   "source": [
    "10. What does pip stand for python?\n",
    "\n",
    "Answer: Prefered Installer Programmer"
   ]
  },
  {
   "cell_type": "markdown",
   "id": "39298804",
   "metadata": {},
   "source": [
    "11. Mention a few build in functions?\n",
    "\n",
    "Answer: len(), sort(),int(), type(), float(), str(), range()"
   ]
  },
  {
   "cell_type": "markdown",
   "id": "0e97055c",
   "metadata": {},
   "source": [
    "12. What is the maximum possible length of an identifier in Python? \n",
    "\n",
    "Answer: 79 characters"
   ]
  },
  {
   "cell_type": "markdown",
   "id": "8f94473c",
   "metadata": {},
   "source": [
    "13. What are the benefits of using Python? \n",
    "\n",
    "Answer: The code is clean and doesnt look complex like java but it can be slow compared to C.\n",
    "Talking about applications it can be used in \n",
    "1) data science\n",
    "2) Web development\n",
    "3) Game development"
   ]
  },
  {
   "cell_type": "markdown",
   "id": "00c5099b",
   "metadata": {},
   "source": [
    "14. How is memory managed in Python? \n",
    "\n",
    "Answer: Memory management in Python involves the management of a private heap."
   ]
  },
  {
   "cell_type": "markdown",
   "id": "515302ec",
   "metadata": {},
   "source": [
    "15. How to install Python on Windows and set path variables? \n",
    "Dowmload python from python.org \n",
    "Install the.exe file.\n",
    "\n",
    "The complete path of python.exe can be added by:\n",
    "\n",
    "Right-clicking This PC and going to Properties.\n",
    "\n",
    "Clicking on the Advanced system settings in the menu on the left.\n",
    "\n",
    "Clicking on the Environment Variables button o​n the bottom right.\n",
    "\n",
    "In the System variables section, selecting the Path variable and clicking on Edit. The next screen will show all the directories that are currently a part of the PATH variable.\n",
    "\n",
    "Clicking on New and entering Python’s install directory."
   ]
  },
  {
   "cell_type": "markdown",
   "id": "0905d38e",
   "metadata": {},
   "source": [
    "16.  Is indentation required in python? \n",
    "\n",
    "Yes "
   ]
  }
 ],
 "metadata": {
  "kernelspec": {
   "display_name": "Python 3 (ipykernel)",
   "language": "python",
   "name": "python3"
  },
  "language_info": {
   "codemirror_mode": {
    "name": "ipython",
    "version": 3
   },
   "file_extension": ".py",
   "mimetype": "text/x-python",
   "name": "python",
   "nbconvert_exporter": "python",
   "pygments_lexer": "ipython3",
   "version": "3.9.13"
  }
 },
 "nbformat": 4,
 "nbformat_minor": 5
}
