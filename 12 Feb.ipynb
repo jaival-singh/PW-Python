{
 "cells": [
  {
   "cell_type": "markdown",
   "id": "bc320427",
   "metadata": {},
   "source": [
    "Q1 What is an exception in python? Write the difference between Exception and syntax error."
   ]
  },
  {
   "cell_type": "markdown",
   "id": "07db5579",
   "metadata": {},
   "source": [
    "An exception in Python is an event that occurs during the execution of a program, which interrupts the normal flow of the program's instructions. When an exception occurs, Python generates an error message and stops the execution of the program.The main difference between exceptions and syntax errors is that exceptions occur during the execution of a program, while syntax errors occur during the parsing of the code. Additionally, exceptions can be handled and caught by the program, while syntax errors cannot be caught and must be fixed in the code."
   ]
  },
  {
   "cell_type": "markdown",
   "id": "f9a63f8a",
   "metadata": {},
   "source": [
    "Q2 What happens when Exception isnt handled ? Explain with example."
   ]
  },
  {
   "cell_type": "markdown",
   "id": "556bd3ff",
   "metadata": {},
   "source": [
    "When an exception is not handled in Python, the program execution stops immediately, and an error message is printed to the console. This can be problematic, especially if the program is part of a larger system, as it may cause other components to malfunction or crash as well."
   ]
  },
  {
   "cell_type": "code",
   "execution_count": 2,
   "id": "5268f1e6",
   "metadata": {},
   "outputs": [
    {
     "ename": "ZeroDivisionError",
     "evalue": "division by zero",
     "output_type": "error",
     "traceback": [
      "\u001b[1;31m---------------------------------------------------------------------------\u001b[0m",
      "\u001b[1;31mZeroDivisionError\u001b[0m                         Traceback (most recent call last)",
      "\u001b[1;32m~\\AppData\\Local\\Temp\\ipykernel_9796\\2591076079.py\u001b[0m in \u001b[0;36m<module>\u001b[1;34m\u001b[0m\n\u001b[0;32m      2\u001b[0m     \u001b[1;32mreturn\u001b[0m \u001b[0ma\u001b[0m \u001b[1;33m/\u001b[0m \u001b[0mb\u001b[0m\u001b[1;33m\u001b[0m\u001b[1;33m\u001b[0m\u001b[0m\n\u001b[0;32m      3\u001b[0m \u001b[1;33m\u001b[0m\u001b[0m\n\u001b[1;32m----> 4\u001b[1;33m \u001b[0mresult\u001b[0m \u001b[1;33m=\u001b[0m \u001b[0mdivide_numbers\u001b[0m\u001b[1;33m(\u001b[0m\u001b[1;36m10\u001b[0m\u001b[1;33m,\u001b[0m \u001b[1;36m0\u001b[0m\u001b[1;33m)\u001b[0m\u001b[1;33m\u001b[0m\u001b[1;33m\u001b[0m\u001b[0m\n\u001b[0m",
      "\u001b[1;32m~\\AppData\\Local\\Temp\\ipykernel_9796\\2591076079.py\u001b[0m in \u001b[0;36mdivide_numbers\u001b[1;34m(a, b)\u001b[0m\n\u001b[0;32m      1\u001b[0m \u001b[1;32mdef\u001b[0m \u001b[0mdivide_numbers\u001b[0m\u001b[1;33m(\u001b[0m\u001b[0ma\u001b[0m\u001b[1;33m,\u001b[0m \u001b[0mb\u001b[0m\u001b[1;33m)\u001b[0m\u001b[1;33m:\u001b[0m\u001b[1;33m\u001b[0m\u001b[1;33m\u001b[0m\u001b[0m\n\u001b[1;32m----> 2\u001b[1;33m     \u001b[1;32mreturn\u001b[0m \u001b[0ma\u001b[0m \u001b[1;33m/\u001b[0m \u001b[0mb\u001b[0m\u001b[1;33m\u001b[0m\u001b[1;33m\u001b[0m\u001b[0m\n\u001b[0m\u001b[0;32m      3\u001b[0m \u001b[1;33m\u001b[0m\u001b[0m\n\u001b[0;32m      4\u001b[0m \u001b[0mresult\u001b[0m \u001b[1;33m=\u001b[0m \u001b[0mdivide_numbers\u001b[0m\u001b[1;33m(\u001b[0m\u001b[1;36m10\u001b[0m\u001b[1;33m,\u001b[0m \u001b[1;36m0\u001b[0m\u001b[1;33m)\u001b[0m\u001b[1;33m\u001b[0m\u001b[1;33m\u001b[0m\u001b[0m\n",
      "\u001b[1;31mZeroDivisionError\u001b[0m: division by zero"
     ]
    }
   ],
   "source": [
    "def divide_numbers(a, b):\n",
    "    return a / b\n",
    "\n",
    "result = divide_numbers(10, 0)\n"
   ]
  },
  {
   "cell_type": "markdown",
   "id": "75e81de0",
   "metadata": {},
   "source": [
    "Here is how you can handle it"
   ]
  },
  {
   "cell_type": "code",
   "execution_count": 3,
   "id": "f41324de",
   "metadata": {},
   "outputs": [
    {
     "name": "stdout",
     "output_type": "stream",
     "text": [
      "Error: division by zero\n",
      "Result: None\n"
     ]
    }
   ],
   "source": [
    "def divide_numbers(a, b):\n",
    "    try:\n",
    "        result = a / b\n",
    "    except ZeroDivisionError:\n",
    "        print(\"Error: division by zero\")\n",
    "        result = None\n",
    "    return result\n",
    "\n",
    "result = divide_numbers(10, 0)\n",
    "print(\"Result:\", result)\n"
   ]
  },
  {
   "cell_type": "markdown",
   "id": "02984271",
   "metadata": {},
   "source": [
    "Which Python statements are used to catch and handle exceptions? Explain with example?"
   ]
  },
  {
   "cell_type": "markdown",
   "id": "ccd5c5e0",
   "metadata": {},
   "source": [
    "Python provides try and except statements to catch and handle exceptions that may occur during program execution. The try block contains the code that may raise an exception, while the except block contains the code that handles the exception if it occurs. "
   ]
  },
  {
   "cell_type": "code",
   "execution_count": 4,
   "id": "fb3bbd3b",
   "metadata": {},
   "outputs": [
    {
     "name": "stdout",
     "output_type": "stream",
     "text": [
      "Enter a number: 5\n",
      "Enter another number: 0\n",
      "Error: division by zero\n"
     ]
    }
   ],
   "source": [
    "try:\n",
    "    num1 = int(input(\"Enter a number: \"))\n",
    "    num2 = int(input(\"Enter another number: \"))\n",
    "    result = num1 / num2\n",
    "    print(\"The result is:\", result)\n",
    "except ZeroDivisionError:\n",
    "    print(\"Error: division by zero\")\n",
    "except ValueError:\n",
    "    print(\"Error: invalid input\")\n"
   ]
  },
  {
   "cell_type": "markdown",
   "id": "bc9af0bb",
   "metadata": {},
   "source": [
    "Q4. Explain with example\n",
    "\n",
    "a) try and else\n",
    "b) finally\n",
    "c) raise"
   ]
  },
  {
   "cell_type": "markdown",
   "id": "1100f654",
   "metadata": {},
   "source": [
    "a) try and else statement in Python is used to specify a block of code to be executed if no exception is raised in the try block. "
   ]
  },
  {
   "cell_type": "code",
   "execution_count": 7,
   "id": "340c86e9",
   "metadata": {},
   "outputs": [
    {
     "name": "stdout",
     "output_type": "stream",
     "text": [
      "Enter a number: 5\n",
      "Enter another number: 2\n",
      "The result is: 2.5\n"
     ]
    }
   ],
   "source": [
    "try:\n",
    "    num1 = int(input(\"Enter a number: \"))\n",
    "    num2 = int(input(\"Enter another number: \"))\n",
    "    result = num1 / num2\n",
    "except ZeroDivisionError:\n",
    "    print(\"Error: division by zero\")\n",
    "else:\n",
    "    print(\"The result is:\", result)\n"
   ]
  },
  {
   "cell_type": "markdown",
   "id": "6bdc1ec1",
   "metadata": {},
   "source": [
    "b) finally statement in Python is used to specify a block of code that will always be executed, regardless of whether an exception is raised or not. "
   ]
  },
  {
   "cell_type": "code",
   "execution_count": 13,
   "id": "cdf04c38",
   "metadata": {},
   "outputs": [],
   "source": [
    "try:\n",
    "    f = open(\"myfile.txt\", \"w\")\n",
    "    f.write(\"Hello, world!\")\n",
    "except IOError:\n",
    "    print(\"Error: could not write to file\")\n",
    "finally:\n",
    "    f.close()\n"
   ]
  },
  {
   "cell_type": "markdown",
   "id": "1745b14c",
   "metadata": {},
   "source": [
    "c) raise statement in Python is used to raise an exception explicitly"
   ]
  },
  {
   "cell_type": "code",
   "execution_count": 11,
   "id": "9e1d303b",
   "metadata": {},
   "outputs": [
    {
     "name": "stdout",
     "output_type": "stream",
     "text": [
      "Error: division by zero\n"
     ]
    }
   ],
   "source": [
    "def divide(num1, num2):\n",
    "    if num2 == 0:\n",
    "        raise ZeroDivisionError(\"Error: division by zero\")\n",
    "    return num1 / num2\n",
    "\n",
    "try:\n",
    "    result = divide(10, 0)\n",
    "except ZeroDivisionError as e:\n",
    "    print(e)\n"
   ]
  },
  {
   "cell_type": "markdown",
   "id": "d7fb593f",
   "metadata": {},
   "source": [
    "Q5 What are custom exception and why do we need them? Explain with example\n"
   ]
  },
  {
   "cell_type": "markdown",
   "id": "f8f9f72d",
   "metadata": {},
   "source": [
    "Custom exceptions in Python are user-defined exceptions that can be raised in your code to handle specific situations or errors that are not covered by the built-in exceptions. Custom exceptions are derived from the Exception class or its subclasses, and they can be raised and caught just like built-in exceptions.We may need custom exceptions for several reasons. One common reason is to provide more specific error messages to users or developers. For example, suppose you are writing a program that reads data from a file and performs some operations on it. If the file is not found, you could raise a FileNotFoundError exception. However, this exception does not provide any information about why the file was not found or how to fix the problem. By defining a custom exception, you can provide more detailed information and guidance to the user or developer."
   ]
  },
  {
   "cell_type": "code",
   "execution_count": 15,
   "id": "24e5128d",
   "metadata": {},
   "outputs": [
    {
     "name": "stdout",
     "output_type": "stream",
     "text": [
      "Error: input must be non-negative\n"
     ]
    }
   ],
   "source": [
    "class InvalidInputError(Exception):\n",
    "    def __init__(self, message):\n",
    "        super().__init__(message)\n",
    "\n",
    "def calculate_factorial(num):\n",
    "    if num < 0:\n",
    "        raise InvalidInputError(\"Error: input must be non-negative\")\n",
    "    elif num == 0:\n",
    "        return 1\n",
    "    else:\n",
    "        return num * calculate_factorial(num - 1)\n",
    "\n",
    "try:\n",
    "    result = calculate_factorial(-5)\n",
    "except InvalidInputError as e:\n",
    "    print(e)\n"
   ]
  },
  {
   "cell_type": "markdown",
   "id": "94dc7070",
   "metadata": {},
   "source": [
    "Q6 Create a custom exception class. Use this class to handle exception."
   ]
  },
  {
   "cell_type": "code",
   "execution_count": 16,
   "id": "6838be25",
   "metadata": {},
   "outputs": [
    {
     "name": "stdout",
     "output_type": "stream",
     "text": [
      "Error: input must be non-negative\n"
     ]
    }
   ],
   "source": [
    "class InvalidInputError(Exception):\n",
    "    def __init__(self, message):\n",
    "        super().__init__(message)\n",
    "\n",
    "def calculate_factorial(num):\n",
    "    if num < 0:\n",
    "        raise InvalidInputError(\"Error: input must be non-negative\")\n",
    "    elif num == 0:\n",
    "        return 1\n",
    "    else:\n",
    "        return num * calculate_factorial(num - 1)\n",
    "\n",
    "try:\n",
    "    result = calculate_factorial(-5)\n",
    "except InvalidInputError as e:\n",
    "    print(e)\n"
   ]
  }
 ],
 "metadata": {
  "kernelspec": {
   "display_name": "Python 3 (ipykernel)",
   "language": "python",
   "name": "python3"
  },
  "language_info": {
   "codemirror_mode": {
    "name": "ipython",
    "version": 3
   },
   "file_extension": ".py",
   "mimetype": "text/x-python",
   "name": "python",
   "nbconvert_exporter": "python",
   "pygments_lexer": "ipython3",
   "version": "3.9.13"
  }
 },
 "nbformat": 4,
 "nbformat_minor": 5
}
