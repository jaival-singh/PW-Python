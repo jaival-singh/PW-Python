{
 "cells": [
  {
   "cell_type": "markdown",
   "id": "0ca73ecc",
   "metadata": {},
   "source": [
    "Q11. Write a program to accept percentage from the user and display the grade according to the following \n",
    "criteria: \n",
    "Marks \n",
    "Grade\n",
    "\n",
    ">90  A \n",
    "\n",
    ">80 and <=90 B\n",
    "\n",
    "\n",
    ">=60 and <=80  C     below 60 D \n"
   ]
  },
  {
   "cell_type": "code",
   "execution_count": 6,
   "id": "4e4e3a11",
   "metadata": {},
   "outputs": [
    {
     "name": "stdout",
     "output_type": "stream",
     "text": [
      "Enter your percentage: 59\n",
      "Your garde is D\n"
     ]
    }
   ],
   "source": [
    "n = int(input(\"Enter your percentage: \"))\n",
    "\n",
    "if n> 90:\n",
    "    print('Your grade is A')\n",
    "    \n",
    "elif n>80 and n<=90:\n",
    "    print('Your grade is B')\n",
    "\n",
    "elif n>=60 and n<=80:\n",
    "    print('Your grade is C')\n",
    "    \n",
    "else:\n",
    "    print('Your garde is D')"
   ]
  },
  {
   "cell_type": "markdown",
   "id": "ec0ddc20",
   "metadata": {},
   "source": [
    "2. Write a program to accept the cost price of a bike and display the road tax to be paid according to the \n",
    "following criteria: \n",
    "\n",
    "Tax    Cost price\n",
    "\n",
    "15%      >100000\n",
    "\n",
    "10%      50000 and <= 100000 \n",
    "\n",
    "5%       <= 50000 \n",
    "\n"
   ]
  },
  {
   "cell_type": "code",
   "execution_count": 9,
   "id": "e6c6ec59",
   "metadata": {},
   "outputs": [
    {
     "name": "stdout",
     "output_type": "stream",
     "text": [
      "Enter the cost price of bike: 50000\n",
      "Road Tax is 5%\n"
     ]
    }
   ],
   "source": [
    "n = int(input(\"Enter the cost price of bike: \"))\n",
    "\n",
    "if n> 100000:\n",
    "    print('Road tax is 15%')\n",
    "    \n",
    "elif n>50000 and n<=100000:\n",
    "    print('Road tax is 10%')\n",
    "\n",
    "else:\n",
    "    print('Road Tax is 5%')\n",
    "    \n"
   ]
  },
  {
   "cell_type": "markdown",
   "id": "a64c1df0",
   "metadata": {},
   "source": [
    "3. Accept any city from the user and display monuments of that city. \n",
    "\n",
    "City           Monument\n",
    "\n",
    "Delhi          Red fort\n",
    "\n",
    "Agra           Taj mahal\n",
    "\n",
    "Jaipur         Jal mahal\n",
    "\n"
   ]
  },
  {
   "cell_type": "code",
   "execution_count": 11,
   "id": "2d25fc4e",
   "metadata": {},
   "outputs": [
    {
     "name": "stdout",
     "output_type": "stream",
     "text": [
      "Enter city: Agra\n",
      "Monument in Agra is Taj Mahal\n"
     ]
    }
   ],
   "source": [
    "n = input(\"Enter city: \")\n",
    "\n",
    "if n == 'Delhi':\n",
    "    print('Monument in Delhi is Red Fort')\n",
    "    \n",
    "elif n == 'Agra':\n",
    "    print('Monument in Agra is Taj Mahal')\n",
    "\n",
    "elif n == 'Jaipur':\n",
    "    print('Monument in Jaipur is Jal Mahal')\n",
    "    \n",
    "else:\n",
    "    print('You have enterd city not in our record')"
   ]
  },
  {
   "cell_type": "markdown",
   "id": "9f24558e",
   "metadata": {},
   "source": [
    "4. Check how many times a given number can be divided by 3 before it is less than or equal to 10. \n"
   ]
  },
  {
   "cell_type": "code",
   "execution_count": 20,
   "id": "450668ef",
   "metadata": {},
   "outputs": [
    {
     "name": "stdout",
     "output_type": "stream",
     "text": [
      "Enter number: 15\n",
      "1\n"
     ]
    }
   ],
   "source": [
    "n = int(input(\"Enter number: \"))\n",
    "\n",
    "if n%3 !=0:\n",
    "    print(\"No isnt divisible by 3\")\n",
    "\n",
    "if n%3==0 and n>=10:\n",
    "    count = 0\n",
    "    while n > 10:\n",
    "        n = n // 3\n",
    "        count += 1\n",
    "    print(count)\n",
    "\n",
    "if n%3==0 and n<10:\n",
    "    print(\"1\")"
   ]
  },
  {
   "cell_type": "markdown",
   "id": "c35a0919",
   "metadata": {},
   "source": [
    "5. Why and When to Use while Loop in Python give a detailed description with example"
   ]
  },
  {
   "cell_type": "markdown",
   "id": "f02983b9",
   "metadata": {},
   "source": [
    "Python while loop is used to run a block code until a certain condition is met. Here, A while loop evaluates the condition. If the condition evaluates to True , the code inside the while loop is executed.\n",
    "\n",
    "A while loop evaluates the condition\n",
    "\n",
    "If the condition evaluates to True, the code inside the while loop is executed.\n",
    "\n",
    "condition is evaluated again.\n",
    "\n",
    "This process continues until the condition is False.\n",
    "\n",
    "When condition evaluates to False, the loop stops."
   ]
  },
  {
   "cell_type": "code",
   "execution_count": 21,
   "id": "e48063f9",
   "metadata": {},
   "outputs": [
    {
     "name": "stdout",
     "output_type": "stream",
     "text": [
      "1\n",
      "2\n",
      "3\n",
      "4\n",
      "5\n"
     ]
    }
   ],
   "source": [
    "# program to display numbers from 1 to 5\n",
    "\n",
    "# initialize the variable\n",
    "i = 1\n",
    "n = 5\n",
    "\n",
    "# while loop from i = 1 to 5\n",
    "while i <= n:\n",
    "    print(i)\n",
    "    i = i + 1"
   ]
  },
  {
   "cell_type": "markdown",
   "id": "48a52aeb",
   "metadata": {},
   "source": [
    "6. Use nested while loop to print 3 different pattern. \n"
   ]
  },
  {
   "cell_type": "code",
   "execution_count": 22,
   "id": "502cded1",
   "metadata": {},
   "outputs": [
    {
     "name": "stdout",
     "output_type": "stream",
     "text": [
      "Enter number of rows : 4\n",
      "* \n",
      "* * \n",
      "* * * \n",
      "* * * * \n"
     ]
    }
   ],
   "source": [
    "n = int(input('Enter number of rows : '))\n",
    " \n",
    "i = 1\n",
    "while i <= n :\n",
    "    j = 1\n",
    "    while j <= i:\n",
    "        print(\"*\", end = \" \")\n",
    "        j += 1\n",
    "    print()\n",
    "    i += 1"
   ]
  },
  {
   "cell_type": "code",
   "execution_count": 23,
   "id": "ac0cd2e9",
   "metadata": {},
   "outputs": [
    {
     "name": "stdout",
     "output_type": "stream",
     "text": [
      "Enter number of rows : 4\n",
      "* * * * \n",
      "* * * \n",
      "* * \n",
      "* \n"
     ]
    }
   ],
   "source": [
    "n = int(input('Enter number of rows : '))\n",
    " \n",
    "i = 1\n",
    "while i <= n :\n",
    "    j = n\n",
    "    while j >= i:\n",
    "        print(\"*\", end = \" \")\n",
    "        j -= 1\n",
    "    print()\n",
    "    i += 1"
   ]
  },
  {
   "cell_type": "code",
   "execution_count": 24,
   "id": "7487bde6",
   "metadata": {},
   "outputs": [
    {
     "name": "stdout",
     "output_type": "stream",
     "text": [
      "Enter number of rows : 4\n",
      "  1 \n",
      "  2   3 \n",
      "  4   5   6 \n",
      "  7   8   9  10 \n"
     ]
    }
   ],
   "source": [
    "n = int(input('Enter number of rows : '))\n",
    " \n",
    "k = 1\n",
    "i = 1\n",
    "while i <= n :\n",
    "    j = 1\n",
    "    while j <= i:\n",
    "        print(\"{:3d}\".format(k), end = \" \")\n",
    "        j += 1\n",
    "        k += 1\n",
    "    print()\n",
    "    i += 1"
   ]
  },
  {
   "cell_type": "markdown",
   "id": "2dc397f2",
   "metadata": {},
   "source": [
    "7. Reverse a while loop to display numbers from 10 to 1. \n"
   ]
  },
  {
   "cell_type": "code",
   "execution_count": 1,
   "id": "b5734d3a",
   "metadata": {},
   "outputs": [
    {
     "name": "stdout",
     "output_type": "stream",
     "text": [
      "10\n",
      "9\n",
      "8\n",
      "7\n",
      "6\n",
      "5\n",
      "4\n",
      "3\n",
      "2\n",
      "1\n"
     ]
    }
   ],
   "source": [
    "n=10\n",
    "while n>=1:\n",
    "    print(n)\n",
    "    n= n-1\n",
    "    "
   ]
  },
  {
   "cell_type": "markdown",
   "id": "b12f9f99",
   "metadata": {},
   "source": [
    "Q8 same as Q7"
   ]
  }
 ],
 "metadata": {
  "kernelspec": {
   "display_name": "Python 3 (ipykernel)",
   "language": "python",
   "name": "python3"
  },
  "language_info": {
   "codemirror_mode": {
    "name": "ipython",
    "version": 3
   },
   "file_extension": ".py",
   "mimetype": "text/x-python",
   "name": "python",
   "nbconvert_exporter": "python",
   "pygments_lexer": "ipython3",
   "version": "3.9.13"
  }
 },
 "nbformat": 4,
 "nbformat_minor": 5
}
