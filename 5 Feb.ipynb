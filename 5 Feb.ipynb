{
 "cells": [
  {
   "cell_type": "markdown",
   "id": "8f989ba3",
   "metadata": {},
   "source": [
    "Q1. Explain Class and Object with respect to Object-Oriented Programming. Give a suitable example."
   ]
  },
  {
   "cell_type": "markdown",
   "id": "5c7d14e5",
   "metadata": {},
   "source": [
    "In object-oriented programming, a class is a blueprint or a template for creating objects, which are instances of the class. A class defines a set of properties and methods that an object can have.An object, on the other hand, is a specific instance of a class that has its own set of properties and methods. "
   ]
  },
  {
   "cell_type": "code",
   "execution_count": 1,
   "id": "4509a661",
   "metadata": {},
   "outputs": [
    {
     "name": "stdout",
     "output_type": "stream",
     "text": [
      "Hello, my name is Alice and I am 25 years old.\n"
     ]
    }
   ],
   "source": [
    "# Define a class called Person\n",
    "class Person:\n",
    "    # Define the __init__() method to initialize the object\n",
    "    def __init__(self, name, age):\n",
    "        self.name = name\n",
    "        self.age = age\n",
    "\n",
    "    # Define a method called say_hello()\n",
    "    def say_hello(self):\n",
    "        print(\"Hello, my name is\", self.name, \"and I am\", self.age, \"years old.\")\n",
    "\n",
    "# Create an object of the Person class\n",
    "person1 = Person(\"Alice\", 25)\n",
    "\n",
    "# Call the say_hello() method on the person1 object\n",
    "person1.say_hello()\n"
   ]
  },
  {
   "cell_type": "markdown",
   "id": "2ad617e2",
   "metadata": {},
   "source": [
    "Q2. Name the four pillars of OOPs. \n"
   ]
  },
  {
   "cell_type": "markdown",
   "id": "b6cd9ad0",
   "metadata": {},
   "source": [
    "The four pillars of OOPs are:\n",
    "a)Abstraction\n",
    "\n",
    "b)Encapsulation\n",
    "\n",
    "c)Inheritance\n",
    "\n",
    "d)Polymorphism\n"
   ]
  },
  {
   "cell_type": "markdown",
   "id": "1920c58b",
   "metadata": {},
   "source": [
    "Q3. Explain why the __init__() function is used. Give a suitable example. "
   ]
  },
  {
   "cell_type": "markdown",
   "id": "ce86758e",
   "metadata": {},
   "source": [
    "The __init__ method is the Python equivalent of the C++ constructor in an object-oriented approach. The __init__ function is called every time an object is created from a class. The __init__ method lets the class initialize the object's attributes and serves no other purpose. It is only used within classes."
   ]
  },
  {
   "cell_type": "code",
   "execution_count": 4,
   "id": "8c0b3af8",
   "metadata": {},
   "outputs": [
    {
     "name": "stdout",
     "output_type": "stream",
     "text": [
      "Hello, my name is Nikhil\n"
     ]
    }
   ],
   "source": [
    "# A Sample class with init method\n",
    "class Person:\n",
    "    def __init__(self, name):\n",
    "        self.name = name\n",
    "\n",
    "    def say_hi(self):\n",
    "        print('Hello, my name is', self.name)\n",
    "\n",
    "\n",
    "p = Person('Nikhil')\n",
    "p.say_hi()\n"
   ]
  },
  {
   "cell_type": "markdown",
   "id": "d165385d",
   "metadata": {},
   "source": [
    "Q4. Why self is used in OOPs? \n"
   ]
  },
  {
   "cell_type": "markdown",
   "id": "dc64509a",
   "metadata": {},
   "source": [
    "In Python, self is used to refer to the instance of a class. When we create an object of a class, we need to pass self as the first argument to any method in the class.The purpose of self is to allow us to access the properties and methods of the instance of the class from within the methods of the class. When we call a method on an object, Python automatically passes the instance of the class as the self argument to the method"
   ]
  },
  {
   "cell_type": "markdown",
   "id": "0e8edb93",
   "metadata": {},
   "source": [
    "Q5. What is inheritance? Give an example for each type of inheritance. \n"
   ]
  },
  {
   "cell_type": "markdown",
   "id": "66c314c1",
   "metadata": {},
   "source": [
    "In Python, inheritance is a mechanism that allows a class to inherit properties (methods and attributes) from another class. The class that is being inherited from is called the superclass or parent class, while the class that inherits from the superclass is called the subclass or child class."
   ]
  },
  {
   "cell_type": "markdown",
   "id": "4640b173",
   "metadata": {},
   "source": [
    "1 Single Inheritance\n"
   ]
  },
  {
   "cell_type": "code",
   "execution_count": 5,
   "id": "c934fbe4",
   "metadata": {},
   "outputs": [],
   "source": [
    "class Animal:\n",
    "    def __init__(self,name):\n",
    "        self.name = name\n",
    "        \n",
    "class Dog(Animal):\n",
    "    def __init__(self,name,breed):\n",
    "        super().__init__(name)\n",
    "        self.breed = breed"
   ]
  },
  {
   "cell_type": "markdown",
   "id": "24da553f",
   "metadata": {},
   "source": [
    "2 Multiple Inheritance"
   ]
  },
  {
   "cell_type": "code",
   "execution_count": 7,
   "id": "2160b3f2",
   "metadata": {},
   "outputs": [],
   "source": [
    "class Car:\n",
    "    def start(self):\n",
    "        print(\"Engine started.\")\n",
    "\n",
    "class Airplane:\n",
    "    def takeoff(self):\n",
    "        print(\"Taking off.\")\n",
    "\n",
    "class FlyingCar(Car, Airplane):\n",
    "    def fly(self):\n",
    "        print(\"Flying!\")\n"
   ]
  },
  {
   "cell_type": "markdown",
   "id": "16259fd2",
   "metadata": {},
   "source": [
    "3 Multi-level inheritance"
   ]
  },
  {
   "cell_type": "code",
   "execution_count": 8,
   "id": "b42a0960",
   "metadata": {},
   "outputs": [],
   "source": [
    "class Vehicle:\n",
    "    def __init__(self, color):\n",
    "        self.color = color\n",
    "\n",
    "class Car(Vehicle):\n",
    "    def start(self):\n",
    "        print(\"Engine started.\")\n",
    "\n",
    "class SportsCar(Car):\n",
    "    def go_fast(self):\n",
    "        print(\"Going fast!\")\n"
   ]
  },
  {
   "cell_type": "markdown",
   "id": "c7e6ed6f",
   "metadata": {},
   "source": [
    "4. Heirarichal Inheritance\n"
   ]
  },
  {
   "cell_type": "code",
   "execution_count": 9,
   "id": "175cd3a4",
   "metadata": {},
   "outputs": [],
   "source": [
    "class Animal:\n",
    "    def __init__(self, name):\n",
    "        self.name = name\n",
    "\n",
    "class Dog(Animal):\n",
    "    def bark(self):\n",
    "        print(\"Woof!\")\n",
    "\n",
    "class Cat(Animal):\n",
    "    def meow(self):\n",
    "        print(\"Meow!\")\n"
   ]
  },
  {
   "cell_type": "markdown",
   "id": "2d5b738a",
   "metadata": {},
   "source": [
    "5 Hybrid Inheritance"
   ]
  },
  {
   "cell_type": "code",
   "execution_count": 11,
   "id": "b4eaa9f6",
   "metadata": {},
   "outputs": [],
   "source": [
    "class Animal:\n",
    "    def __init__(self, name):\n",
    "        self.name = name\n",
    "\n",
    "class Pet(Animal):\n",
    "    def play(self):\n",
    "        print(\"Playing...\")\n",
    "\n",
    "class Dog(Pet):\n",
    "    def bark(self):\n",
    "        print(\"Woof!\")\n",
    "\n",
    "class SportsDog(Dog):\n",
    "    def go_fast(self):\n",
    "        print(\"Going fast!\")\n"
   ]
  }
 ],
 "metadata": {
  "kernelspec": {
   "display_name": "Python 3 (ipykernel)",
   "language": "python",
   "name": "python3"
  },
  "language_info": {
   "codemirror_mode": {
    "name": "ipython",
    "version": 3
   },
   "file_extension": ".py",
   "mimetype": "text/x-python",
   "name": "python",
   "nbconvert_exporter": "python",
   "pygments_lexer": "ipython3",
   "version": "3.9.13"
  }
 },
 "nbformat": 4,
 "nbformat_minor": 5
}
