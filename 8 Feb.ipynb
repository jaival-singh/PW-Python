{
 "cells": [
  {
   "cell_type": "markdown",
   "id": "1b79c9f9",
   "metadata": {},
   "source": [
    "Q1. What is Abstraction in OOps? Explain with an example. "
   ]
  },
  {
   "cell_type": "markdown",
   "id": "6eb96400",
   "metadata": {},
   "source": [
    "Abstraction is one of the fundamental concepts of Object-Oriented Programming (OOPs) which is used to simplify complex systems by hiding their implementation details and focusing on the essential features that are necessary for the users. In simple terms, abstraction means representing the necessary features of an object without including the background details."
   ]
  },
  {
   "cell_type": "code",
   "execution_count": 2,
   "id": "afd7c68b",
   "metadata": {},
   "outputs": [
    {
     "name": "stdout",
     "output_type": "stream",
     "text": [
      "Bark\n",
      "Meow\n"
     ]
    }
   ],
   "source": [
    "from abc import ABC, abstractmethod\n",
    "\n",
    "class Animal(ABC):\n",
    "    @abstractmethod\n",
    "    def speak(self):\n",
    "        pass\n",
    "\n",
    "class Dog(Animal):\n",
    "    def speak(self):\n",
    "        return \"Bark\"\n",
    "\n",
    "class Cat(Animal):\n",
    "    def speak(self):\n",
    "        return \"Meow\"\n",
    "\n",
    "d = Dog()\n",
    "print(d.speak())\n",
    "\n",
    "c = Cat()\n",
    "print(c.speak())\n"
   ]
  },
  {
   "cell_type": "markdown",
   "id": "2e0e0c18",
   "metadata": {},
   "source": [
    "Q2. Differentiate between Abstraction and Encapsulation. Explain with an example."
   ]
  },
  {
   "cell_type": "markdown",
   "id": "b60efb5c",
   "metadata": {},
   "source": [
    "Abstraction is the process of representing complex real-world systems in a simplified manner by focusing only on the essential features and ignoring irrelevant details. It is achieved through the use of abstract classes, interfaces, and methods.\n",
    "Encapsulation, on the other hand, is the practice of hiding the implementation details of a system from the outside world, and only exposing a well-defined interface for interacting with the system.\n"
   ]
  },
  {
   "cell_type": "code",
   "execution_count": 4,
   "id": "2e3a2e7d",
   "metadata": {},
   "outputs": [],
   "source": [
    "class BankAccount:\n",
    "    def __init__(self, account_number, balance):\n",
    "        self.account_number = account_number\n",
    "        self.balance = balance\n",
    "\n",
    "    def deposit(self, amount):\n",
    "        self.balance += amount\n",
    "\n",
    "    def withdraw(self, amount):\n",
    "        if self.balance >= amount:\n",
    "            self.balance -= amount\n",
    "        else:\n",
    "            print(\"Insufficient funds\")\n",
    "\n",
    "    def get_balance(self):\n",
    "        return self.balance\n"
   ]
  },
  {
   "cell_type": "markdown",
   "id": "219bc735",
   "metadata": {},
   "source": [
    "Encapsulation is demonstrated in this example by making the account_number and balance attributes private, which means they can only be accessed within the class. This ensures that the implementation details of the BankAccount class are hidden from the outside world, and can only be modified through the well-defined interface provided by the class methods.\n",
    "\n",
    "Abstraction is demonstrated in this example by ignoring irrelevant details such as the name of the account holder, the type of account, etc. and only focusing on the essential features of a bank account - depositing, withdrawing, and checking the balance."
   ]
  },
  {
   "cell_type": "markdown",
   "id": "89ea733c",
   "metadata": {},
   "source": [
    "Q3. What is abc module in python? Why is it used? \n",
    "The abc module in Python stands for Abstract Base Classes. It provides a way to define abstract classes and abstract methods in Python.\n",
    "\n",
    "An abstract class is a class that cannot be instantiated, and is only meant to serve as a base class for other classes. An abstract method is a method that does not have an implementation and must be defined by any subclass that inherits from the abstract class.\n",
    "\n",
    "The abc module provides the ABC class, which can be used as a base class for creating abstract classes. To define an abstract method, the @abstractmethod decorator is used."
   ]
  },
  {
   "cell_type": "markdown",
   "id": "2ac0908f",
   "metadata": {},
   "source": [
    "Q4. How can we achieve data abstraction?\n",
    "\n",
    "In Python, we can achieve data abstraction in the following ways:\n",
    "\n",
    "Encapsulation: Encapsulation is the practice of hiding the implementation details of a system from the outside world, and only exposing a well-defined interface for interacting with the system. This is achieved through the use of access modifiers (public, private, protected) in class definitions.\n",
    "By using encapsulation, we can hide the implementation details of a class from the outside world and only expose the essential features through the class methods. This ensures that the users of the class only need to interact with the class through a well-defined interface, which simplifies the usage of the class and reduces the chances of errors or misuse.\n",
    "\n",
    "Abstract Classes: Abstract classes are classes that cannot be instantiated and are only meant to serve as a base class for other classes. They can contain abstract methods that do not have an implementation and must be defined by any subclass that inherits from the abstract class.\n",
    "By defining abstract classes and methods, we can enforce a certain interface or behavior in a group of related classes, ensuring that all subclasses have the same interface and behavior. This simplifies the usage of the classes and makes the code easier to understand and maintain.\n",
    "\n",
    "Interfaces: Interfaces are similar to abstract classes in that they define a set of methods that must be implemented by any class that implements the interface. However, interfaces do not contain any implementation details and only define the method signatures.\n",
    "By using interfaces, we can enforce a certain interface or behavior in a group of unrelated classes, ensuring that they all have the same interface and behavior. This makes it easier to use these classes interchangeably and reduces the chances of errors or misuse.\n",
    "\n",
    "Overall, data abstraction is achieved in Python through the use of encapsulation, abstract classes, and interfaces, which allow us to represent complex systems in a simplified manner and enforce a certain interface or behavior in related or unrelated classes.\n",
    "\n",
    "\n"
   ]
  },
  {
   "cell_type": "markdown",
   "id": "d3057d80",
   "metadata": {},
   "source": [
    "Q5. Can we create an instance of an abstract class? Explain your answer.\n",
    "\n",
    "No, we cannot create an instance of an abstract class in Python. An abstract class is a class that contains one or more abstract methods, which do not have an implementation and must be defined by any subclass that inherits from the abstract class.\n",
    "\n",
    "Since abstract classes contain abstract methods that are not fully implemented, they are incomplete and cannot be instantiated. Attempting to create an instance of an abstract class will result in a TypeError."
   ]
  }
 ],
 "metadata": {
  "kernelspec": {
   "display_name": "Python 3 (ipykernel)",
   "language": "python",
   "name": "python3"
  },
  "language_info": {
   "codemirror_mode": {
    "name": "ipython",
    "version": 3
   },
   "file_extension": ".py",
   "mimetype": "text/x-python",
   "name": "python",
   "nbconvert_exporter": "python",
   "pygments_lexer": "ipython3",
   "version": "3.9.13"
  }
 },
 "nbformat": 4,
 "nbformat_minor": 5
}
