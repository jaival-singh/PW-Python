{
 "cells": [
  {
   "cell_type": "markdown",
   "id": "46f5c9fe",
   "metadata": {},
   "source": [
    "Q1). What is multithreading in python? Why is it used? Name the module used to handle threads in python"
   ]
  },
  {
   "cell_type": "markdown",
   "id": "0886d1b8",
   "metadata": {},
   "source": [
    "Multithreading is a programming technique that allows a program to execute multiple threads (independent sequences of instructions) concurrently within a single process. In Python, multithreading is achieved through the threading module.\n",
    "\n",
    "Multithreading is used in Python to improve the performance of programs by allowing them to execute multiple tasks simultaneously. It is particularly useful in situations where a program needs to perform I/O operations or other tasks that involve waiting, as it allows other tasks to continue executing while waiting for the I/O operation to complete."
   ]
  },
  {
   "cell_type": "markdown",
   "id": "c44c390c",
   "metadata": {},
   "source": [
    "Q2. Why threading module used? rite the use of the following functions\n",
    "1) activeCount()\n",
    "2) currentThread()\n",
    "3) enumerate()"
   ]
  },
  {
   "cell_type": "markdown",
   "id": "9dcbaba3",
   "metadata": {},
   "source": [
    "The threading module is used in Python for creating, controlling, and managing threads. It provides a higher-level interface than the low-level thread module, making it easier to create and manage threads in a Python program.\n",
    "\n",
    "Here are the uses of the following functions in the threading module:\n",
    "\n",
    "activeCount() - This function returns the number of active threads in the current thread's thread object hierarchy. It can be used to monitor the number of threads currently running in a program and can be helpful in detecting possible thread-related issues, such as deadlocks or race conditions.\n",
    "\n",
    "currentThread() - This function returns a reference to the current thread object. It can be used to obtain information about the current thread, such as its name or ID, and to perform operations on the thread, such as setting a thread-local variable.\n",
    "\n",
    "enumerate() - This function returns a list of all thread objects that are currently alive. It can be used to obtain information about all the threads in a program, such as their names or IDs, and to perform operations on them, such as stopping or joining them."
   ]
  },
  {
   "cell_type": "markdown",
   "id": "683c00ea",
   "metadata": {},
   "source": [
    "3. Explain the following functions\n",
    "\n",
    "run()\n",
    "start()\n",
    "join()\n",
    "isAlive()"
   ]
  },
  {
   "cell_type": "markdown",
   "id": "68f2b11e",
   "metadata": {},
   "source": [
    "run(): The run() method is the entry point for the thread. When a thread is started, its run() method is called. This method can be overridden to define the thread's behavior.\n",
    "\n",
    "start(): The start() method is used to start the execution of a thread. When the start() method is called, the thread's run() method is executed in a separate thread of execution.\n",
    "\n",
    "join(): The join() method is used to wait for the thread to complete its execution. When the join() method is called, the program waits until the thread completes before continuing execution.\n",
    "\n",
    "isAlive(): The isAlive() method is used to check whether the thread is currently executing. The method returns True if the thread is currently executing, and False otherwise."
   ]
  },
  {
   "cell_type": "markdown",
   "id": "36824f1b",
   "metadata": {},
   "source": [
    "Q4 write a python program to create two threads. Thread one must print the list of squares and thread\n",
    "two must print the list of cubes"
   ]
  },
  {
   "cell_type": "code",
   "execution_count": 3,
   "id": "2050e59b",
   "metadata": {},
   "outputs": [
    {
     "name": "stdout",
     "output_type": "stream",
     "text": [
      "Square of 1 = 1\n",
      "Square of 2 = 4\n",
      "Square of 3 = 9\n",
      "Square of 4 = 16\n",
      "Square of 5 = 25\n",
      "Square of 6 = 36\n",
      "Square of 7 = 49\n",
      "Square of 8 = 64\n",
      "Square of 9 = 81\n",
      "Square of 10 = 100\n",
      "Cube of 1 = 1\n",
      "Cube of 2 = 8\n",
      "Cube of 3 = 27\n",
      "Cube of 4 = 64\n",
      "Cube of 5 = 125\n",
      "Cube of 6 = 216\n",
      "Cube of 7 = 343\n",
      "Cube of 8 = 512\n",
      "Cube of 9 = 729\n",
      "Cube of 10 = 1000\n"
     ]
    }
   ],
   "source": [
    "import threading\n",
    "\n",
    "def print_squares():\n",
    "    for i in range(1, 11):\n",
    "        print(f\"Square of {i} = {i**2}\")\n",
    "\n",
    "def print_cubes():\n",
    "    for i in range(1, 11):\n",
    "        print(f\"Cube of {i} = {i**3}\")\n",
    "\n",
    "t1 = threading.Thread(target=print_squares)\n",
    "t2 = threading.Thread(target=print_cubes)\n",
    "\n",
    "t1.start()\n",
    "t2.start()\n",
    "\n",
    "\n",
    "t1.join()\n",
    "t2.join()"
   ]
  },
  {
   "cell_type": "markdown",
   "id": "0dc9f88e",
   "metadata": {},
   "source": [
    "Q5 State advantages and disadvantages of multithreading\n",
    "Advantages of Multithreading:\n",
    "\n",
    "Improved performance: Multithreading allows a program to perform multiple tasks simultaneously, which can lead to better performance and faster execution times. This is especially useful in applications that involve I/O or other tasks that are blocking.\n",
    "\n",
    "Resource sharing: Multithreading allows threads to share resources such as memory and CPU time, which can lead to more efficient resource utilization.\n",
    "\n",
    "Asynchronous execution: Multithreading can be used to perform asynchronous I/O operations, where the program can continue executing other tasks while waiting for I/O operations to complete. This can improve the responsiveness of the program.\n",
    "\n",
    "Parallel processing: Multithreading can be used to perform tasks in parallel, where multiple threads can work on the same task simultaneously. This can reduce the time required to complete the task.\n",
    "\n",
    "Disadvantages of Multithreading:\n",
    "\n",
    "Complexity: Multithreading adds complexity to a program, making it more difficult to design, develop, and debug. It can be challenging to ensure thread safety and avoid race conditions and deadlocks.\n",
    "\n",
    "Overhead: Multithreading introduces overhead in terms of memory and CPU time, as each thread requires its own stack and context switching between threads requires additional processing time.\n",
    "\n",
    "Synchronization issues: Multithreading introduces synchronization issues, as threads may access shared resources simultaneously, leading to conflicts and data corruption.\n",
    "\n",
    "Debugging challenges: Debugging multithreaded programs can be challenging, as the behavior of the program can be non-deterministic and difficult to reproduce."
   ]
  },
  {
   "cell_type": "markdown",
   "id": "ff0d294a",
   "metadata": {},
   "source": [
    "Q6 Explain deadlocks and race conditions.\n",
    "\n",
    "Deadlocks occur when two or more threads are waiting for each other to release resources that they need in order to proceed. Deadlocks can occur when a thread holds a resource and then tries to acquire another resource that is held by another thread, which is also waiting for the first thread to release the resource it holds. This can result in a situation where both threads are waiting for each other to release the resources they need, and neither can proceed. Deadlocks can be difficult to detect and resolve, as they can be intermittent and dependent on timing and scheduling.\n",
    "\n",
    "Race conditions occur when two or more threads access a shared resource simultaneously and the behavior of the program depends on the order in which the threads execute. Race conditions can occur when a shared resource is not properly synchronized, allowing multiple threads to access it simultaneously. This can lead to unexpected and unpredictable behavior, as the behavior of the program depends on the timing and scheduling of the threads. Race conditions can be difficult to detect and reproduce, as they can be dependent on timing and other factors."
   ]
  }
 ],
 "metadata": {
  "kernelspec": {
   "display_name": "Python 3 (ipykernel)",
   "language": "python",
   "name": "python3"
  },
  "language_info": {
   "codemirror_mode": {
    "name": "ipython",
    "version": 3
   },
   "file_extension": ".py",
   "mimetype": "text/x-python",
   "name": "python",
   "nbconvert_exporter": "python",
   "pygments_lexer": "ipython3",
   "version": "3.9.13"
  }
 },
 "nbformat": 4,
 "nbformat_minor": 5
}
