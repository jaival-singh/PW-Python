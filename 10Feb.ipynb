{
 "cells": [
  {
   "cell_type": "markdown",
   "id": "514d87c1",
   "metadata": {},
   "source": [
    "Q1. Which function is used to open a file? What are the different modes of opening a file? Explain each mode\n",
    "of file opening."
   ]
  },
  {
   "cell_type": "markdown",
   "id": "b650a1e8",
   "metadata": {},
   "source": [
    "In Python, the open() function is used to open a file. This function takes two arguments: the first argument is the name of the file to be opened, and the second argument is the mode in which the file is to be opened.\n",
    "\n",
    "The different modes of opening a file in Python are:\n",
    "\n",
    "r (read mode): This mode is used to open a file for reading. The file pointer is placed at the beginning of the file. If the file does not exist, an error is raised.\n",
    "\n",
    "w (write mode): This mode is used to open a file for writing. If the file already exists, its contents are truncated. If the file does not exist, a new file is created.\n",
    "\n",
    "a (append mode): This mode is used to open a file for appending. The file pointer is placed at the end of the file. If the file does not exist, a new file is created.\n",
    "\n",
    "b (binary mode): This mode is used to open a file in binary mode. This is used when working with non-text files such as images, audio, and video files."
   ]
  },
  {
   "cell_type": "markdown",
   "id": "09d52e6a",
   "metadata": {},
   "source": [
    "Q2. Why close() function is used? Why is it important to close a file?"
   ]
  },
  {
   "cell_type": "markdown",
   "id": "68254a1e",
   "metadata": {},
   "source": [
    "In Python, the close() function is used to close a file object. It is important to close a file in Python because:\n",
    "\n",
    "Release of system resources: When a file is opened, the operating system allocates certain resources, such as memory and system handles, to manage the file. If the file is not closed properly, these resources may not be released, leading to memory leaks or other system problems.\n",
    "\n",
    "Data consistency: If a file is not closed properly, data that has been written to the file may not be completely written to disk, leading to inconsistencies in the file contents. Closing the file ensures that all data is flushed to the disk and is consistent.\n",
    "\n",
    "Access to file by other processes: If a file is not closed properly, other processes may not be able to access it. This is because the file is still open and locked by the Python process, preventing other processes from reading or writing to the file.\n",
    "\n",
    "Therefore, it is important to always close a file using the close() function once you are done with it, so that the operating system resources can be freed up, data consistency can be ensured, and other processes can access the file."
   ]
  },
  {
   "cell_type": "markdown",
   "id": "9359eea6",
   "metadata": {},
   "source": [
    "Q3. Write a python program to create a text file. Write ‘I want to become a Data Scientist’ in that file. Then\n",
    "close the file. Open this file and read the content of the file."
   ]
  },
  {
   "cell_type": "code",
   "execution_count": 2,
   "id": "97dfb59d",
   "metadata": {},
   "outputs": [
    {
     "name": "stdout",
     "output_type": "stream",
     "text": [
      "I want to become a Data Scientist\n"
     ]
    }
   ],
   "source": [
    "# Open the file in write mode\n",
    "file = open(\"data_scientist.txt\", \"w\")\n",
    "\n",
    "# Write the text to the file\n",
    "file.write(\"I want to become a Data Scientist\")\n",
    "\n",
    "# Close the file\n",
    "file.close()\n",
    "\n",
    "# Open the file in read mode\n",
    "file = open(\"data_scientist.txt\", \"r\")\n",
    "\n",
    "# Read the contents of the file\n",
    "file_contents = file.read()\n",
    "\n",
    "# Close the file\n",
    "file.close()\n",
    "\n",
    "# Print the contents of the file\n",
    "print(file_contents)\n"
   ]
  },
  {
   "cell_type": "markdown",
   "id": "7d6c8f06",
   "metadata": {},
   "source": [
    "Q4. Explain the following with python code: read(), readline() and readlines()."
   ]
  },
  {
   "cell_type": "markdown",
   "id": "edc87fdd",
   "metadata": {},
   "source": [
    "read(): The read() method reads the entire content of a file and returns it as a single string. If no size is specified, it will read the whole file. Here is an example code that demonstrates the use of the read() method:"
   ]
  },
  {
   "cell_type": "code",
   "execution_count": 2,
   "id": "ab4495f8",
   "metadata": {},
   "outputs": [
    {
     "name": "stdout",
     "output_type": "stream",
     "text": [
      "Data science is an interdisciplinary academic field [1] that uses statistics, scientific computing, scientific methods, processes, algorithms and systems to extract or extrapolate knowledge and insights from noisy, structured, and unstructured data.[2]\n",
      "\n",
      "Data science also integrates domain knowledge from the underlying application domain (e.g., natural sciences, information technology, and medicine).[3] Data science is multifaceted and can be described as a science, a research paradigm, a research method, a discipline, a workflow, and a profession.[4]\n",
      "\n"
     ]
    }
   ],
   "source": [
    "with open('example.txt', 'r') as file:\n",
    "    content = file.read()\n",
    "    print(content)\n"
   ]
  },
  {
   "cell_type": "markdown",
   "id": "3543ccb3",
   "metadata": {},
   "source": [
    "readline(): The readline() method reads one line at a time from a file and returns it as a string. Here is an example code that demonstrates the use of the readline() method:"
   ]
  },
  {
   "cell_type": "code",
   "execution_count": 3,
   "id": "08f90fd5",
   "metadata": {},
   "outputs": [
    {
     "name": "stdout",
     "output_type": "stream",
     "text": [
      "Data science is an interdisciplinary academic field [1] that uses statistics, scientific computing, scientific methods, processes, algorithms and systems to extract or extrapolate knowledge and insights from noisy, structured, and unstructured data.[2]\n",
      "\n",
      "Data science also integrates domain knowledge from the underlying application domain (e.g., natural sciences, information technology, and medicine).[3] Data science is multifaceted and can be described as a science, a research paradigm, a research method, a discipline, a workflow, and a profession.[4]\n"
     ]
    }
   ],
   "source": [
    "with open('example.txt', 'r') as file:\n",
    "    line = file.readline()\n",
    "    while line:\n",
    "        print(line.strip())\n",
    "        line = file.readline()\n"
   ]
  },
  {
   "cell_type": "markdown",
   "id": "b2fc981a",
   "metadata": {},
   "source": [
    "readlines(): The readlines() method reads all the lines of a file and returns them as a list of strings. Here is an example code that demonstrates the use of the readlines() method:"
   ]
  },
  {
   "cell_type": "code",
   "execution_count": 4,
   "id": "ec06ab19",
   "metadata": {},
   "outputs": [
    {
     "name": "stdout",
     "output_type": "stream",
     "text": [
      "Data science is an interdisciplinary academic field [1] that uses statistics, scientific computing, scientific methods, processes, algorithms and systems to extract or extrapolate knowledge and insights from noisy, structured, and unstructured data.[2]\n",
      "\n",
      "Data science also integrates domain knowledge from the underlying application domain (e.g., natural sciences, information technology, and medicine).[3] Data science is multifaceted and can be described as a science, a research paradigm, a research method, a discipline, a workflow, and a profession.[4]\n"
     ]
    }
   ],
   "source": [
    "with open('example.txt', 'r') as file:\n",
    "    lines = file.readlines()\n",
    "    for line in lines:\n",
    "        print(line.strip())\n"
   ]
  },
  {
   "cell_type": "markdown",
   "id": "ec8db155",
   "metadata": {},
   "source": [
    "Q5. Explain why with statement is used with open(). What is the advantage of using with statement and\n",
    "open() together?"
   ]
  },
  {
   "cell_type": "markdown",
   "id": "8f9a1c38",
   "metadata": {},
   "source": [
    "The with statement in Python is used to ensure that a resource is properly managed and released when the block of code is exited, even if an exception is raised. This is particularly useful when working with file I/O in Python because it ensures that the file is properly closed after the block of code has completed execution.The advantage of using the with statement with the open() function is that it automatically closes the file for you when you are finished working with it, even if an exception is raised. This can help to prevent bugs and ensure that your code is more robust and reliable. Additionally, it can help to reduce the amount of code you need to write by handling the file closing automatically for you."
   ]
  },
  {
   "cell_type": "markdown",
   "id": "b576b1fc",
   "metadata": {},
   "source": [
    "Q6. Explain the write() and writelines() functions. Give a suitable example."
   ]
  },
  {
   "cell_type": "markdown",
   "id": "9359dacf",
   "metadata": {},
   "source": [
    "The write() function writes a string to a file. If the file does not exist, it will be created. If it already exists, the contents of the file will be overwritten. The syntax for the write() function is as follows:"
   ]
  },
  {
   "cell_type": "code",
   "execution_count": 6,
   "id": "80eb3d2a",
   "metadata": {},
   "outputs": [],
   "source": [
    "with open('sample.txt', 'w') as file:\n",
    "    file.write('Hello, world!')\n"
   ]
  },
  {
   "cell_type": "markdown",
   "id": "d79fa263",
   "metadata": {},
   "source": [
    "The writelines() function is used to write a list of strings to a file. Each string in the list is written to the file as a separate line. The syntax for the writelines()"
   ]
  },
  {
   "cell_type": "code",
   "execution_count": 7,
   "id": "336d4f4f",
   "metadata": {},
   "outputs": [],
   "source": [
    "with open('example.txt', 'w') as file:\n",
    "    lines = ['Hello, world!\\n', 'How are you?\\n', 'Goodbye!']\n",
    "    file.writelines(lines)\n"
   ]
  }
 ],
 "metadata": {
  "kernelspec": {
   "display_name": "Python 3 (ipykernel)",
   "language": "python",
   "name": "python3"
  },
  "language_info": {
   "codemirror_mode": {
    "name": "ipython",
    "version": 3
   },
   "file_extension": ".py",
   "mimetype": "text/x-python",
   "name": "python",
   "nbconvert_exporter": "python",
   "pygments_lexer": "ipython3",
   "version": "3.9.13"
  }
 },
 "nbformat": 4,
 "nbformat_minor": 5
}
